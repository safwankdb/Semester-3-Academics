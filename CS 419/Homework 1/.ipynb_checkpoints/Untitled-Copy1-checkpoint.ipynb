{
 "cells": [
  {
   "cell_type": "code",
   "execution_count": null,
   "metadata": {},
   "outputs": [],
   "source": [
    "import numpy as np\n",
    "import pandas as pd"
   ]
  },
  {
   "cell_type": "code",
   "execution_count": null,
   "metadata": {},
   "outputs": [],
   "source": [
    "data = pd.read_csv('train.csv')\n",
    "data.head()\n",
    "epsilon = 0.001"
   ]
  },
  {
   "cell_type": "code",
   "execution_count": null,
   "metadata": {},
   "outputs": [],
   "source": [
    "X = np.array(data)[:,:-1]\n",
    "y = np.array(data)[:,-1]\n",
    "print(X)"
   ]
  },
  {
   "cell_type": "code",
   "execution_count": 9,
   "metadata": {},
   "outputs": [],
   "source": [
    "def normalize(mat):\n",
    "    a = np.array(mat)\n",
    "    a = a.astype(np.float)\n",
    "    b = np.apply_along_axis(lambda x: (x - np.min(x)) /\n",
    "                            float(np.max(x) - np.min(x)), 0, a)\n",
    "    return b"
   ]
  },
  {
   "cell_type": "code",
   "execution_count": 15,
   "metadata": {},
   "outputs": [],
   "source": [
    "X = normalize(X)"
   ]
  },
  {
   "cell_type": "code",
   "execution_count": 35,
   "metadata": {},
   "outputs": [],
   "source": [
    "def splitVal(a):\n",
    "    parentMSE = MSE(a)\n",
    "    a.sort()\n",
    "    t = a[0]\n",
    "    min_gain = 999999\n",
    "    min_t = 1\n",
    "    while t<a[-1]-epsilon:\n",
    "        t += epsilon\n",
    "        leftIndex = sum( i > t for i in a)\n",
    "        rightIndex = len(a) - leftIndex\n",
    "        leftList = a[:leftIndex]\n",
    "        rightList = a[leftIndex:]\n",
    "        leftMSE = MSE(leftList)\n",
    "        rightMSE = MSE(rightList)\n",
    "        infGain = (leftIndex/(leftIndex+rightIndex)) * leftMSE + (rightIndex/(leftIndex+rightIndex)) * rightMSE\n",
    "        if infGain < min_gain:\n",
    "            min_t = t\n",
    "    return min_t\n",
    "        "
   ]
  },
  {
   "cell_type": "code",
   "execution_count": 36,
   "metadata": {},
   "outputs": [],
   "source": [
    "def MSE(x):\n",
    "    sum_list = 0\n",
    "    for i in x:\n",
    "        sum_list += i\n",
    "    sumError = [(t - sum_list/len(x))**2 for t in x]\n",
    "    mse = sum(sumError) / len(x)\n",
    "    return mse"
   ]
  },
  {
   "cell_type": "code",
   "execution_count": null,
   "metadata": {},
   "outputs": [],
   "source": [
    "X\n"
   ]
  },
  {
   "cell_type": "code",
   "execution_count": null,
   "metadata": {},
   "outputs": [],
   "source": []
  },
  {
   "cell_type": "code",
   "execution_count": null,
   "metadata": {},
   "outputs": [],
   "source": []
  },
  {
   "cell_type": "code",
   "execution_count": null,
   "metadata": {},
   "outputs": [],
   "source": []
  },
  {
   "cell_type": "code",
   "execution_count": null,
   "metadata": {},
   "outputs": [],
   "source": []
  }
 ],
 "metadata": {
  "kernelspec": {
   "display_name": "Python 3",
   "language": "python",
   "name": "python3"
  },
  "language_info": {
   "codemirror_mode": {
    "name": "ipython",
    "version": 3
   },
   "file_extension": ".py",
   "mimetype": "text/x-python",
   "name": "python",
   "nbconvert_exporter": "python",
   "pygments_lexer": "ipython3",
   "version": "3.6.5"
  }
 },
 "nbformat": 4,
 "nbformat_minor": 2
}
