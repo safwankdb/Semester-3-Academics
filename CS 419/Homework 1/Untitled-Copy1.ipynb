{
 "cells": [
  {
   "cell_type": "code",
   "execution_count": 22,
   "metadata": {},
   "outputs": [],
   "source": [
    "import numpy as np\n",
    "import pandas as pd"
   ]
  },
  {
   "cell_type": "code",
   "execution_count": 23,
   "metadata": {},
   "outputs": [
    {
     "data": {
      "text/html": [
       "<div>\n",
       "<style scoped>\n",
       "    .dataframe tbody tr th:only-of-type {\n",
       "        vertical-align: middle;\n",
       "    }\n",
       "\n",
       "    .dataframe tbody tr th {\n",
       "        vertical-align: top;\n",
       "    }\n",
       "\n",
       "    .dataframe thead th {\n",
       "        text-align: right;\n",
       "    }\n",
       "</style>\n",
       "<table border=\"1\" class=\"dataframe\">\n",
       "  <thead>\n",
       "    <tr style=\"text-align: right;\">\n",
       "      <th></th>\n",
       "      <th>fixed acidity</th>\n",
       "      <th>volatile acidity</th>\n",
       "      <th>citric acid</th>\n",
       "      <th>residual sugar</th>\n",
       "      <th>chlorides</th>\n",
       "      <th>free sulfur dioxide</th>\n",
       "      <th>total sulfur dioxide</th>\n",
       "      <th>density</th>\n",
       "      <th>pH</th>\n",
       "      <th>sulphates</th>\n",
       "      <th>alcohol</th>\n",
       "      <th>quality</th>\n",
       "    </tr>\n",
       "  </thead>\n",
       "  <tbody>\n",
       "    <tr>\n",
       "      <th>0</th>\n",
       "      <td>6.9</td>\n",
       "      <td>0.17</td>\n",
       "      <td>0.36</td>\n",
       "      <td>2.30</td>\n",
       "      <td>0.036</td>\n",
       "      <td>40.0</td>\n",
       "      <td>117.0</td>\n",
       "      <td>0.99340</td>\n",
       "      <td>3.07</td>\n",
       "      <td>1.10</td>\n",
       "      <td>10.5</td>\n",
       "      <td>5</td>\n",
       "    </tr>\n",
       "    <tr>\n",
       "      <th>1</th>\n",
       "      <td>6.5</td>\n",
       "      <td>0.21</td>\n",
       "      <td>0.34</td>\n",
       "      <td>13.00</td>\n",
       "      <td>0.053</td>\n",
       "      <td>55.0</td>\n",
       "      <td>177.0</td>\n",
       "      <td>0.99830</td>\n",
       "      <td>3.32</td>\n",
       "      <td>0.59</td>\n",
       "      <td>10.9</td>\n",
       "      <td>5</td>\n",
       "    </tr>\n",
       "    <tr>\n",
       "      <th>2</th>\n",
       "      <td>6.3</td>\n",
       "      <td>0.19</td>\n",
       "      <td>0.24</td>\n",
       "      <td>2.70</td>\n",
       "      <td>0.052</td>\n",
       "      <td>36.0</td>\n",
       "      <td>135.0</td>\n",
       "      <td>0.99374</td>\n",
       "      <td>3.60</td>\n",
       "      <td>0.81</td>\n",
       "      <td>11.9</td>\n",
       "      <td>6</td>\n",
       "    </tr>\n",
       "    <tr>\n",
       "      <th>3</th>\n",
       "      <td>5.6</td>\n",
       "      <td>0.17</td>\n",
       "      <td>0.27</td>\n",
       "      <td>2.70</td>\n",
       "      <td>0.030</td>\n",
       "      <td>31.0</td>\n",
       "      <td>103.0</td>\n",
       "      <td>0.98892</td>\n",
       "      <td>3.15</td>\n",
       "      <td>0.52</td>\n",
       "      <td>14.2</td>\n",
       "      <td>6</td>\n",
       "    </tr>\n",
       "    <tr>\n",
       "      <th>4</th>\n",
       "      <td>6.6</td>\n",
       "      <td>0.24</td>\n",
       "      <td>0.39</td>\n",
       "      <td>2.45</td>\n",
       "      <td>0.040</td>\n",
       "      <td>40.0</td>\n",
       "      <td>89.0</td>\n",
       "      <td>0.99110</td>\n",
       "      <td>3.15</td>\n",
       "      <td>0.55</td>\n",
       "      <td>12.5</td>\n",
       "      <td>5</td>\n",
       "    </tr>\n",
       "  </tbody>\n",
       "</table>\n",
       "</div>"
      ],
      "text/plain": [
       "   fixed acidity  volatile acidity  citric acid  residual sugar  chlorides  \\\n",
       "0            6.9              0.17         0.36            2.30      0.036   \n",
       "1            6.5              0.21         0.34           13.00      0.053   \n",
       "2            6.3              0.19         0.24            2.70      0.052   \n",
       "3            5.6              0.17         0.27            2.70      0.030   \n",
       "4            6.6              0.24         0.39            2.45      0.040   \n",
       "\n",
       "   free sulfur dioxide  total sulfur dioxide  density    pH  sulphates  \\\n",
       "0                 40.0                 117.0  0.99340  3.07       1.10   \n",
       "1                 55.0                 177.0  0.99830  3.32       0.59   \n",
       "2                 36.0                 135.0  0.99374  3.60       0.81   \n",
       "3                 31.0                 103.0  0.98892  3.15       0.52   \n",
       "4                 40.0                  89.0  0.99110  3.15       0.55   \n",
       "\n",
       "   alcohol  quality  \n",
       "0     10.5        5  \n",
       "1     10.9        5  \n",
       "2     11.9        6  \n",
       "3     14.2        6  \n",
       "4     12.5        5  "
      ]
     },
     "execution_count": 23,
     "metadata": {},
     "output_type": "execute_result"
    }
   ],
   "source": [
    "data = pd.read_csv('train.csv')\n",
    "epsilon = 0.001\n",
    "data.head()\n"
   ]
  },
  {
   "cell_type": "code",
   "execution_count": 24,
   "metadata": {},
   "outputs": [
    {
     "data": {
      "text/plain": [
       "array([[ 6.9 ,  0.17,  0.36, ...,  3.07,  1.1 , 10.5 ],\n",
       "       [ 6.5 ,  0.21,  0.34, ...,  3.32,  0.59, 10.9 ],\n",
       "       [ 6.3 ,  0.19,  0.24, ...,  3.6 ,  0.81, 11.9 ],\n",
       "       ...,\n",
       "       [ 6.  ,  0.18,  0.26, ...,  3.1 ,  0.51,  9.8 ],\n",
       "       [ 5.4 ,  0.36,  0.4 , ...,  3.22,  0.67, 10.  ],\n",
       "       [ 6.1 ,  0.38,  0.31, ...,  3.02,  0.92, 10.5 ]])"
      ]
     },
     "execution_count": 24,
     "metadata": {},
     "output_type": "execute_result"
    }
   ],
   "source": [
    "X = np.array(data)[:,:-1]\n",
    "y = np.array(data)[:,-1]\n",
    "X"
   ]
  },
  {
   "cell_type": "code",
   "execution_count": 25,
   "metadata": {},
   "outputs": [],
   "source": [
    "def normalize(mat):\n",
    "    a = np.array(mat)\n",
    "    a = a.astype(np.float)\n",
    "    b = np.apply_along_axis(lambda x: (x - np.min(x)) /\n",
    "                            float(np.max(x) - np.min(x)), 0, a)\n",
    "    return b"
   ]
  },
  {
   "cell_type": "code",
   "execution_count": 26,
   "metadata": {},
   "outputs": [],
   "source": [
    "X = normalize(X)\n",
    "def MSE(x):\n",
    "    sum_list = 0\n",
    "    for i in x:\n",
    "        sum_list += i\n",
    "    sumError = [(t - sum_list/len(x))**2 for t in x]\n",
    "    mse = sum(sumError) / len(x)\n",
    "    return mse"
   ]
  },
  {
   "cell_type": "code",
   "execution_count": 27,
   "metadata": {},
   "outputs": [],
   "source": [
    "def splitVal(a):\n",
    "    parentMSE = MSE(a)\n",
    "    a.sort()\n",
    "    t = a[0]\n",
    "    min_gain = 999999\n",
    "    min_t = 1\n",
    "    while t<a[-1]-epsilon:\n",
    "        t += epsilon\n",
    "        leftIndex = sum( i > t for i in a)\n",
    "        rightIndex = len(a) - leftIndex\n",
    "        leftList = a[:leftIndex]\n",
    "        rightList = a[leftIndex:]\n",
    "        leftMSE = MSE(leftList)\n",
    "        rightMSE = MSE(rightList)\n",
    "        infGain = (leftIndex/(leftIndex+rightIndex)) * leftMSE + (rightIndex/(leftIndex+rightIndex)) * rightMSE\n",
    "        if infGain < min_gain:\n",
    "            min_t = t\n",
    "    return min_t\n",
    "        "
   ]
  },
  {
   "cell_type": "code",
   "execution_count": 28,
   "metadata": {},
   "outputs": [
    {
     "data": {
      "text/plain": [
       "array([[0.29807692, 0.09278351, 0.21686747, ..., 0.5       , 0.84883721,\n",
       "        0.25757576],\n",
       "       [0.25961538, 0.13402062, 0.20481928, ..., 0.72727273, 0.25581395,\n",
       "        0.31818182],\n",
       "       [0.24038462, 0.11340206, 0.14457831, ..., 0.98181818, 0.51162791,\n",
       "        0.46969697],\n",
       "       ...,\n",
       "       [0.21153846, 0.10309278, 0.15662651, ..., 0.52727273, 0.1627907 ,\n",
       "        0.15151515],\n",
       "       [0.15384615, 0.28865979, 0.24096386, ..., 0.63636364, 0.34883721,\n",
       "        0.18181818],\n",
       "       [0.22115385, 0.30927835, 0.18674699, ..., 0.45454545, 0.63953488,\n",
       "        0.25757576]])"
      ]
     },
     "execution_count": 28,
     "metadata": {},
     "output_type": "execute_result"
    }
   ],
   "source": [
    "X"
   ]
  },
  {
   "cell_type": "code",
   "execution_count": null,
   "metadata": {},
   "outputs": [],
   "source": [
    "splitVal(X[:,0])"
   ]
  },
  {
   "cell_type": "code",
   "execution_count": null,
   "metadata": {},
   "outputs": [],
   "source": []
  },
  {
   "cell_type": "code",
   "execution_count": null,
   "metadata": {},
   "outputs": [],
   "source": []
  },
  {
   "cell_type": "code",
   "execution_count": null,
   "metadata": {},
   "outputs": [],
   "source": []
  },
  {
   "cell_type": "code",
   "execution_count": null,
   "metadata": {},
   "outputs": [],
   "source": []
  }
 ],
 "metadata": {
  "kernelspec": {
   "display_name": "Python 3",
   "language": "python",
   "name": "python3"
  },
  "language_info": {
   "codemirror_mode": {
    "name": "ipython",
    "version": 3
   },
   "file_extension": ".py",
   "mimetype": "text/x-python",
   "name": "python",
   "nbconvert_exporter": "python",
   "pygments_lexer": "ipython3",
   "version": "3.6.5"
  }
 },
 "nbformat": 4,
 "nbformat_minor": 2
}
